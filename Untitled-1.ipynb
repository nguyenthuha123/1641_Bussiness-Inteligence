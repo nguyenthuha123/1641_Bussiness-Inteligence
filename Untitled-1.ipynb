{
 "cells": [
  {
   "cell_type": "code",
   "execution_count": 3,
   "metadata": {},
   "outputs": [
    {
     "name": "stdout",
     "output_type": "stream",
     "text": [
      "[0.3743622982061636, -0.8020106957625797, -0.4356981934216906, -0.5918859347623096, -0.7290344569679339, 0.9134604612140715, 0.4518420336625759, -0.6831266502028277, 0.18474029872703168, -0.918468619958164, 0.09900416755841768, 0.22787464591844908, 0.6299881096234201, -0.6770846512396287, -0.42331949592589924]\n"
     ]
    }
   ],
   "source": []
  },
  {
   "cell_type": "code",
   "execution_count": null,
   "metadata": {},
   "outputs": [],
   "source": [
    "product_list = [['computer', 2000, 130],\n",
    "                ['monitor', 1590, 210], \n",
    "                ['laptop', 3000, 120], \n",
    "                ['mouse', 100, 380],\n",
    "                ['keyboard', 200, 220], \n",
    "                ['printer', 500, 150]]"
   ]
  },
  {
   "cell_type": "code",
   "execution_count": 5,
   "metadata": {},
   "outputs": [
    {
     "ename": "NameError",
     "evalue": "name 'product_list' is not defined",
     "output_type": "error",
     "traceback": [
      "\u001b[1;31m---------------------------------------------------------------------------\u001b[0m",
      "\u001b[1;31mNameError\u001b[0m                                 Traceback (most recent call last)",
      "Cell \u001b[1;32mIn[5], line 3\u001b[0m\n\u001b[0;32m      1\u001b[0m \u001b[39m#use filter & map do the following \u001b[39;00m\n\u001b[0;32m      2\u001b[0m \u001b[39m#1. find max revenue of products that has sold > 200.\u001b[39;00m\n\u001b[1;32m----> 3\u001b[0m max_revenue_product \u001b[39m=\u001b[39m \u001b[39mmax\u001b[39m(\u001b[39mfilter\u001b[39m(\u001b[39mlambda\u001b[39;00m p: p[\u001b[39m2\u001b[39m] \u001b[39m>\u001b[39m \u001b[39m200\u001b[39m, product_list), key\u001b[39m=\u001b[39m\u001b[39mlambda\u001b[39;00m p: p[\u001b[39m1\u001b[39m] \u001b[39m*\u001b[39m p[\u001b[39m2\u001b[39m])\n\u001b[0;32m      4\u001b[0m \u001b[39mprint\u001b[39m(max_revenue_product[\u001b[39m1\u001b[39m] \u001b[39m*\u001b[39m max_revenue_product[\u001b[39m2\u001b[39m])\n\u001b[0;32m      5\u001b[0m \u001b[39m#2. find the product that has the lowest sold among products that has price < 1000\u001b[39;00m\n\u001b[0;32m      6\u001b[0m \u001b[39m#3. calculate sum of revenues of products that has price > 1000 \u001b[39;00m\n",
      "\u001b[1;31mNameError\u001b[0m: name 'product_list' is not defined"
     ]
    }
   ],
   "source": [
    "#use filter & map do the following \n",
    "#1. find max revenue of products that has sold > 200.\n",
    "max_revenue_product = max(filter(lambda p: p[2] > 200, product_list), key=lambda p: p[1] * p[2])\n",
    "print(max_revenue_product[1] * max_revenue_product[2])\n",
    "#2. find the product that has the lowest sold among products that has price < 1000\n",
    "#3. calculate sum of revenues of products that has price > 1000 "
   ]
  },
  {
   "cell_type": "code",
   "execution_count": null,
   "metadata": {},
   "outputs": [],
   "source": []
  }
 ],
 "metadata": {
  "kernelspec": {
   "display_name": "Python 3",
   "language": "python",
   "name": "python3"
  },
  "language_info": {
   "codemirror_mode": {
    "name": "ipython",
    "version": 3
   },
   "file_extension": ".py",
   "mimetype": "text/x-python",
   "name": "python",
   "nbconvert_exporter": "python",
   "pygments_lexer": "ipython3",
   "version": "3.11.3"
  },
  "orig_nbformat": 4
 },
 "nbformat": 4,
 "nbformat_minor": 2
}
